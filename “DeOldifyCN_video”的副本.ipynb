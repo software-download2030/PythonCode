{
  "nbformat": 4,
  "nbformat_minor": 0,
  "metadata": {
    "accelerator": "GPU",
    "colab": {
      "name": "“DeOldifyCN_video”的副本",
      "provenance": [],
      "collapsed_sections": [],
      "toc_visible": true,
      "include_colab_link": true
    },
    "kernelspec": {
      "display_name": "Python 3",
      "language": "python",
      "name": "python3"
    },
    "language_info": {
      "codemirror_mode": {
        "name": "ipython",
        "version": 3
      },
      "file_extension": ".py",
      "mimetype": "text/x-python",
      "name": "python",
      "nbconvert_exporter": "python",
      "pygments_lexer": "ipython3",
      "version": "3.7.0"
    }
  },
  "cells": [
    {
      "cell_type": "markdown",
      "metadata": {
        "id": "view-in-github",
        "colab_type": "text"
      },
      "source": [
        "<a href=\"https://colab.research.google.com/github/software-download2030/PythonCode/blob/master/%E2%80%9CDeOldifyCN_video%E2%80%9D%E7%9A%84%E5%89%AF%E6%9C%AC.ipynb\" target=\"_parent\"><img src=\"https://colab.research.google.com/assets/colab-badge.svg\" alt=\"Open In Colab\"/></a>"
      ]
    },
    {
      "cell_type": "markdown",
      "metadata": {
        "id": "663IVxfrpIAb"
      },
      "source": [
        "#◢ DeOldify - 一款可以给照片和视频上色的神器项目\n",
        "\n",
        "GitHub项目：https://github.com/jantic/DeOldify\n",
        "中文支持站：https://www.deepfacelabs.com\n",
        "QQ群：616883803\n",
        "\n",
        "---\n",
        "\n"
      ]
    },
    {
      "cell_type": "code",
      "metadata": {
        "id": "00_GcC_trpdE"
      },
      "source": [
        "#点击左侧按钮一键配置环境\n",
        "!git clone https://github.com/jantic/DeOldify.git DeOldify\n",
        "%cd /content/DeOldify\n",
        "!pip install -r requirements.txt\n",
        "import fastai\n",
        "from deoldify.visualize import *\n",
        "from pathlib import Path\n",
        "torch.backends.cudnn.benchmark=True\n",
        "!mkdir 'models'\n",
        "!wget https://www.dropbox.com/s/336vn9y4qwyg9yz/ColorizeVideo_gen.pth?dl=0 -O ./models/ColorizeVideo_gen.pth\n",
        "colorizer = get_video_colorizer()"
      ],
      "execution_count": null,
      "outputs": []
    },
    {
      "cell_type": "markdown",
      "metadata": {
        "id": "zELC8Hyrb1Ye"
      },
      "source": [
        "#◢ 使用说明"
      ]
    },
    {
      "cell_type": "markdown",
      "metadata": {
        "id": "9HyWhxwkb1Yg"
      },
      "source": [
        "### 链接格式\n",
        "请输入一个视频链接，可以是优酷，56，Youtube等网站，只需要将视频链接复制进去即可。完整的支持网址：https://ytdl-org.github.io/youtube-dl/supportedsites.html\n",
        "\n",
        "### 默认值\n",
        "默认值21是经过仔细选择的，对于大多数情况（但可能不是最好的）来说都应该是正常的。这决定了视频颜色部分呈现的分辨率。分辨率越低，渲染速度越快，颜色看起来也越有活力。尤其是较旧和较低质量的胶片通常会通过降低渲染因子而受益。更高的渲染因子通常对更高质量的视频更好，不一致性（闪光渲染）通常会减少，但颜色可能会被稍微冲淡。\n",
        "\n",
        "\n",
        "### 怎么下载\n",
        "只需右键另存为上色好的视频即可!\n",
        "\n",
        "## 小贴士\n",
        "如果视频需要很长时间才能渲染，并且您想知道帧的实际着色效果如何，则可以使用底部的代码预览每个渲染因子下帧的渲染效果。只需点击单元格上的“停止”按钮停止视频渲染，然后在“查看渲染因子值在这里的帧上的执行情况”下运行底部单元格。它不是完美的，你可能还需要做一些实验，特别是在解决如何减少帧不一致的问题上。但这将大大缩小实际工作范围。\n",
        "\n",
        "如果视频占用的时间太多，在自己的机器上运行jupyter notebook videocolorizer.ipynb（安装了deoldify）通常会快得多（只要有硬件）  \n",
        "\n",
        "## 故障排除\n",
        "视频播放器可能最终无法显示，在这种情况下，请确保先等待Jupyter单元完成处理（播放按钮将停止旋转）。然后按照下面的下载说明：\n",
        "\n",
        "在左侧的菜单中，单击“文件”\n",
        "如果看不到“deoldify”文件夹，请单击“刷新”\n",
        "默认情况下，渲染的视频将是in/deoldify/video/result/\n",
        "\n",
        "如果下载的视频无法播放，可能是因为完成处理，视频处于半成品状态。\n",
        "\n",
        "\n",
        "如果出现“CUDA out of memory”错误，则可能是渲染因子太高，请调低。11GB显卡的最大容量为44。"
      ]
    },
    {
      "cell_type": "markdown",
      "metadata": {
        "id": "sUQrbSYipiJn"
      },
      "source": [
        "#◢ 开始上色"
      ]
    },
    {
      "cell_type": "code",
      "metadata": {
        "id": "3x_9Y5lqb1Yk",
        "cellView": "form"
      },
      "source": [
        "source_url = '' #@param {type:\"string\"}\n",
        "render_factor = 21  #@param {type: \"slider\", min: 5, max: 44}\n",
        "\n",
        "if source_url is not None and source_url !='':\n",
        "    video_path = colorizer.colorize_from_url(source_url, 'video.mp4', render_factor)\n",
        "    show_video_in_notebook(video_path)\n",
        "else:\n",
        "    print('Provide a video url and try again.')"
      ],
      "execution_count": null,
      "outputs": []
    },
    {
      "cell_type": "markdown",
      "metadata": {
        "id": "NooCztsHb1Yp"
      },
      "source": [
        "## 请参见此处的“渲染因子”值在视频上的执行情况"
      ]
    },
    {
      "cell_type": "code",
      "metadata": {
        "id": "igr3zTX_b1Ys"
      },
      "source": [
        "for i in range(10,45,2):\n",
        "    colorizer.vis.plot_transformed_image('video/bwframes/video/00001.jpg', render_factor=i, display_render_factor=True, figsize=(8,8))"
      ],
      "execution_count": null,
      "outputs": []
    }
  ]
}